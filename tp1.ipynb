{
 "cells": [
  {
   "cell_type": "markdown",
   "id": "7c712afc",
   "metadata": {},
   "source": [
    "#### Librerías, variables, funciones y lectura de datos."
   ]
  },
  {
   "cell_type": "code",
   "execution_count": null,
   "id": "3d8c08a4",
   "metadata": {},
   "outputs": [],
   "source": [
    "#1. Importo librerías.\n",
    "import pandas as pd \n",
    "import numpy as np\n",
    "import matplotlib.pyplot as plt"
   ]
  },
  {
   "cell_type": "code",
   "execution_count": null,
   "id": "6242c93f",
   "metadata": {},
   "outputs": [],
   "source": [
    "#2. Lectura de datos.\n",
    "series_temporales = pd.read_csv(\"./inputs/dataset.csv\")\n",
    "diccionario = pd.read_excel(\"./inputs/diccionario.xlsx\",sheet_name=\"metadata\")"
   ]
  },
  {
   "cell_type": "markdown",
   "id": "5f72e406",
   "metadata": {},
   "source": [
    "#### EDA."
   ]
  },
  {
   "cell_type": "code",
   "execution_count": null,
   "id": "adc906ca",
   "metadata": {},
   "outputs": [],
   "source": [
    "#1. Columnas y variables.\n",
    "print(\"Tenemos {} columnas. Estas son: {}\".format(series_temporales.shape[1],series_temporales.columns))"
   ]
  },
  {
   "cell_type": "code",
   "execution_count": null,
   "id": "c7a479dd",
   "metadata": {},
   "outputs": [],
   "source": [
    "#2. Información general de las variables.\n",
    "series_temporales.info() \n",
    "\n",
    "# Tenemos series temporales con datos nulos......"
   ]
  },
  {
   "cell_type": "code",
   "execution_count": null,
   "id": "ca95b9b6",
   "metadata": {},
   "outputs": [],
   "source": [
    "#3. Convertimos tipo de datos de la fecha.\n",
    "series_temporales[\"fecha\"] = pd.to_datetime(series_temporales[\"fecha\"])"
   ]
  },
  {
   "cell_type": "code",
   "execution_count": null,
   "id": "db74fe32",
   "metadata": {},
   "outputs": [],
   "source": [
    "#4. Borramos filas enteras con NA.\n",
    "series_temporales.dropna(inplace=True)"
   ]
  },
  {
   "cell_type": "code",
   "execution_count": null,
   "id": "12785ccf",
   "metadata": {},
   "outputs": [],
   "source": [
    "#5. Entendemos las fechas de inicio y fin de la Serie temporal\n",
    "inicio = series_temporales[\"fecha\"].sort_values(ascending=True).iloc[0]\n",
    "fin = series_temporales[\"fecha\"].sort_values(ascending=False).iloc[0]\n",
    "\n",
    "print(f\"Las series temporales son algunas diarias, y otras mensuales, yendo desde {inicio} a {fin}.\")"
   ]
  },
  {
   "cell_type": "code",
   "execution_count": null,
   "id": "27bb3c3d",
   "metadata": {},
   "outputs": [],
   "source": [
    "#6. Tiene fechas repetidas?\n",
    "print(\"Fechas unicas: {}\".format(series_temporales[\"fecha\"].nunique()))\n",
    "print(\"Cantidad de filas totales: {}\".format(series_temporales.shape[0]))"
   ]
  },
  {
   "cell_type": "code",
   "execution_count": null,
   "id": "b1ebbc70",
   "metadata": {},
   "outputs": [],
   "source": [
    "#7. Entre el inicio y fin hay 170 fechas?\n",
    "print(\"Tenemos una apertura de fechas de {} días\".format(fin - inicio))\n",
    "print(\"Debería cubrir {} días\".format(series_temporales.shape[0]))"
   ]
  },
  {
   "cell_type": "code",
   "execution_count": null,
   "id": "42cdb194",
   "metadata": {},
   "outputs": [],
   "source": [
    "#8. Que fechas faltan?\n",
    "inicio = series_temporales[\"fecha\"].min()\n",
    "fin = series_temporales[\"fecha\"].max()\n",
    "\n",
    "rango_completo = pd.date_range(start=inicio, end=fin, freq='D')\n",
    "\n",
    "fechas_reales = series_temporales[\"fecha\"].unique()\n",
    "\n",
    "fechas_faltantes = rango_completo.difference(fechas_reales)\n",
    "\n",
    "print(\"Cantidad de fechas faltantes:\", len(fechas_faltantes))\n",
    "print(\"Fechas faltantes:\")\n",
    "print(fechas_faltantes)\n",
    "\n",
    "# Tenemos fechas faltantes... las series temporales para considerarse tales tienen que ser constantes en sus intervalos.\n"
   ]
  },
  {
   "cell_type": "code",
   "execution_count": null,
   "id": "28fbc8e3",
   "metadata": {},
   "outputs": [],
   "source": [
    "#9. Analisis estadísticos descriptivos básicos de las series temporales.\n",
    "series_temporales.describe()"
   ]
  },
  {
   "cell_type": "markdown",
   "id": "6fad429f",
   "metadata": {},
   "source": [
    "#### Análisis básicos en el Dominio del Tiempo."
   ]
  },
  {
   "cell_type": "code",
   "execution_count": null,
   "id": "2eb018fc",
   "metadata": {},
   "outputs": [],
   "source": [
    "# Aseguramos que la columna fecha es datetime y está ordenada\n",
    "series_temporales[\"fecha\"] = pd.to_datetime(series_temporales[\"fecha\"])\n",
    "series_temporales = series_temporales.sort_values(\"fecha\")\n",
    "\n",
    "# Listamos las columnas numéricas (excluyendo 'fecha')\n",
    "variables = series_temporales.drop(columns=[\"fecha\"]).columns\n",
    "\n",
    "# Graficamos cada variable en un gráfico separado\n",
    "for var in variables:\n",
    "    plt.figure(figsize=(12,5))  # Nueva figura para cada variable\n",
    "    plt.plot(series_temporales[\"fecha\"], series_temporales[var], marker='.')\n",
    "    plt.title(f\"Evolución de {var} en el tiempo\")\n",
    "    plt.xlabel(\"Fecha\")\n",
    "    plt.ylabel(var)\n",
    "    plt.grid(True)\n",
    "    plt.show()\n"
   ]
  },
  {
   "cell_type": "markdown",
   "id": "f6455bfb",
   "metadata": {},
   "source": [
    "#### Análisis en el Dominio de la Frecuencia (con TTF)."
   ]
  },
  {
   "cell_type": "code",
   "execution_count": null,
   "id": "2acb3821",
   "metadata": {},
   "outputs": [],
   "source": [
    "# -------------------------\n",
    "# 0️⃣ Configuración inicial\n",
    "# -------------------------\n",
    "# Supongamos que:\n",
    "# series_temporales -> DataFrame con todas las series, columna 'fecha'\n",
    "# diccionario -> DataFrame con columnas ['serie', 'frecuencia'] indicando 'D' o 'M'\n",
    "\n",
    "# Aseguramos que fecha sea datetime\n",
    "series_temporales[\"fecha\"] = pd.to_datetime(series_temporales[\"fecha\"])\n",
    "\n",
    "# Ordenamos por fecha\n",
    "series_temporales = series_temporales.sort_values(\"fecha\")\n",
    "\n",
    "# -------------------------\n",
    "# 1️⃣ Iterar sobre cada variable\n",
    "# -------------------------\n",
    "for _, row in diccionario.iterrows():\n",
    "    var = row['serie']\n",
    "    freq = row['frecuencia']  # 'D' o 'M'\n",
    "    \n",
    "    # Extraer la serie\n",
    "    y = series_temporales[['fecha', var]].copy()\n",
    "    y = y.set_index('fecha')\n",
    "    \n",
    "    # Reindexar según frecuencia real\n",
    "    if freq == 'diaria':\n",
    "        y = y.asfreq('D')\n",
    "        d = 1   # 1 día entre muestras\n",
    "    elif freq == 'mensual':\n",
    "        y = y.asfreq('M')\n",
    "        d = 30  # aprox 30 días entre muestras\n",
    "    \n",
    "    # Rellenar NaN con interpolación lineal\n",
    "    y_filled = y.interpolate(method='linear')\n",
    "    \n",
    "    # -------------------------\n",
    "    # 2️⃣ Graficar serie temporal\n",
    "    # -------------------------\n",
    "    plt.figure(figsize=(12,5))\n",
    "    plt.plot(y_filled.index, y_filled[var], marker='.')\n",
    "    plt.title(f\"Evolución de {var} ({freq})\")\n",
    "    plt.xlabel(\"Fecha\")\n",
    "    plt.ylabel(var)\n",
    "    plt.grid(True)\n",
    "    plt.show()\n",
    "    \n",
    "    # -------------------------\n",
    "    # 3️⃣ Graficar FFT global\n",
    "    # -------------------------\n",
    "    N = len(y_filled)\n",
    "    yf = np.fft.fft(y_filled[var].values)\n",
    "    xf = np.fft.fftfreq(N, d=d)[:N//2]  # frecuencias positivas\n",
    "    amplitud = 2.0/N * np.abs(yf[:N//2])\n",
    "    \n",
    "    # Convertir a periodos en días\n",
    "    periodo = 1/xf[1:]  # omitimos frecuencia cero\n",
    "    amplitud_periodo = amplitud[1:]\n",
    "    \n",
    "    plt.figure(figsize=(12,5))\n",
    "    plt.plot(periodo, amplitud_periodo, marker='.')\n",
    "    plt.title(f\"FFT global de {var} ({freq}) - Periodos en días\")\n",
    "    plt.xlabel(\"Periodo (días por ciclo)\")\n",
    "    plt.ylabel(\"Amplitud\")\n",
    "    plt.grid(True)\n",
    "    plt.show()"
   ]
  }
 ],
 "metadata": {
  "kernelspec": {
   "display_name": "base",
   "language": "python",
   "name": "python3"
  },
  "language_info": {
   "codemirror_mode": {
    "name": "ipython",
    "version": 3
   },
   "file_extension": ".py",
   "mimetype": "text/x-python",
   "name": "python",
   "nbconvert_exporter": "python",
   "pygments_lexer": "ipython3",
   "version": "3.12.7"
  }
 },
 "nbformat": 4,
 "nbformat_minor": 5
}
